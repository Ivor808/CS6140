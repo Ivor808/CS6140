{
 "cells": [
  {
   "cell_type": "markdown",
   "metadata": {},
   "source": [
    "# Problem 1 Abalone Data Set\n",
    "### Created By: Ivor Zalud "
   ]
  },
  {
   "cell_type": "markdown",
   "metadata": {},
   "source": [
    "# Gradient-Boosted Trees\n",
    "\n",
    "### Import Python modules"
   ]
  },
  {
   "cell_type": "code",
   "execution_count": 149,
   "metadata": {},
   "outputs": [],
   "source": [
    "import os\n",
    "import pandas as pd\n",
    "from sklearn.model_selection import train_test_split\n",
    "from sklearn.ensemble import GradientBoostingClassifier\n",
    "from sklearn.metrics import classification_report, confusion_matrix"
   ]
  },
  {
   "cell_type": "markdown",
   "metadata": {},
   "source": [
    "## 1. Load the data and convert Sex to int\n",
    "\n",
    "- M: 0\n",
    "- F: 1\n",
    "- I: 2"
   ]
  },
  {
   "cell_type": "code",
   "execution_count": 150,
   "metadata": {},
   "outputs": [],
   "source": [
    "df_train = pd.read_csv('Data/abalone.data')\n",
    "df_train['Sex'] = df_train['Sex'].map({'M': 0, 'F': 1, 'I': 2})\n",
    "## Drop rows that contain only one instance of Ring values, y values need at least two instances for the model.\n",
    "df_train = df_train[~df_train['Rings'].isin([1,26,29,2,25])]\n",
    "\n"
   ]
  },
  {
   "cell_type": "markdown",
   "metadata": {},
   "source": [
    "## 2. Split the data set into a training and test set"
   ]
  },
  {
   "cell_type": "code",
   "execution_count": 151,
   "metadata": {},
   "outputs": [
    {
     "name": "stdout",
     "output_type": "stream",
     "text": [
      "9     557\n",
      "10    501\n",
      "8     458\n",
      "11    385\n",
      "7     313\n",
      "12    215\n",
      "6     201\n",
      "13    159\n",
      "14    104\n",
      "5      93\n",
      "15     83\n",
      "16     53\n",
      "17     49\n",
      "4      42\n",
      "18     37\n",
      "19     22\n",
      "20     22\n",
      "3      13\n",
      "21     12\n",
      "23      8\n",
      "22      6\n",
      "24      2\n",
      "27      2\n",
      "Name: Rings, dtype: int64\n"
     ]
    }
   ],
   "source": [
    "## Define our indepedent and dependant variables\n",
    "data_column_names = [column for column in df_train.columns]\n",
    "x = df_train.loc[:, data_column_names]\n",
    "y = df_train.loc[:,'Rings']\n",
    "\n",
    "\n",
    "\n",
    "x_train, x_test, y_train, y_test = train_test_split(x,y, test_size=0.2)\n",
    "\n",
    "print(y_train.value_counts())"
   ]
  },
  {
   "cell_type": "markdown",
   "metadata": {},
   "source": [
    "## 3. Create the Gradient-boosted Trees Model and fit with the training data"
   ]
  },
  {
   "cell_type": "code",
   "execution_count": 153,
   "metadata": {},
   "outputs": [
    {
     "name": "stdout",
     "output_type": "stream",
     "text": [
      "      Iter       Train Loss      OOB Improve   Remaining Time \n",
      "         1           1.9940           0.4042            3.08m\n",
      "         2           1.7617           0.2370            3.62m\n",
      "         3           1.6364           0.1301            3.75m\n",
      "         4           1.5203           0.1272            3.85m"
     ]
    },
    {
     "name": "stderr",
     "output_type": "stream",
     "text": [
      "C:\\Users\\Lates\\AppData\\Local\\Packages\\PythonSoftwareFoundation.Python.3.8_qbz5n2kfra8p0\\LocalCache\\local-packages\\Python38\\site-packages\\sklearn\\base.py:441: UserWarning: X does not have valid feature names, but GradientBoostingClassifier was fitted with feature names\n",
      "  warnings.warn(\n"
     ]
    },
    {
     "name": "stdout",
     "output_type": "stream",
     "text": [
      "\n",
      "         5           1.3706           0.1314            3.96m\n",
      "         6           1.2700           0.0914            4.02m\n",
      "         7           1.2012           0.0606            4.08m\n",
      "         8           1.1038           0.0994            4.13m\n",
      "         9           1.0303           0.0692            4.19m\n",
      "        10           0.9738           0.0490            4.23m\n",
      "        20           0.5317           0.0332            4.28m\n",
      "        30           0.3147           0.0170            4.15m\n",
      "        40           0.1899           0.0058            4.09m\n",
      "        50           0.1223           0.0051            4.03m\n",
      "        60           0.0771           0.0038            3.98m\n",
      "        70           0.0496           0.0027            3.94m\n",
      "        80           0.0328           0.0012            3.93m\n",
      "        90           0.0212           0.0004            3.90m\n",
      "       100           0.0134           0.0003            3.88m\n",
      "       200           0.0003           0.0000            3.70m\n",
      "              precision    recall  f1-score   support\n",
      "\n",
      "           3       1.00      1.00      1.00         2\n",
      "           4       1.00      0.87      0.93        15\n",
      "           5       0.92      1.00      0.96        22\n",
      "           6       1.00      1.00      1.00        58\n",
      "           7       1.00      1.00      1.00        78\n",
      "           8       1.00      1.00      1.00       110\n",
      "           9       1.00      1.00      1.00       132\n",
      "          10       1.00      1.00      1.00       133\n",
      "          11       1.00      1.00      1.00       102\n",
      "          12       1.00      1.00      1.00        52\n",
      "          13       1.00      1.00      1.00        44\n",
      "          14       1.00      1.00      1.00        22\n",
      "          15       1.00      1.00      1.00        20\n",
      "          16       1.00      1.00      1.00        14\n",
      "          17       1.00      1.00      1.00         9\n",
      "          18       0.83      1.00      0.91         5\n",
      "          19       0.90      0.90      0.90        10\n",
      "          20       1.00      1.00      1.00         4\n",
      "          21       1.00      0.50      0.67         2\n",
      "          23       1.00      1.00      1.00         1\n",
      "\n",
      "    accuracy                           1.00       835\n",
      "   macro avg       0.98      0.96      0.97       835\n",
      "weighted avg       1.00      1.00      1.00       835\n",
      "\n"
     ]
    }
   ],
   "source": [
    "GBT = GradientBoostingClassifier(n_estimators=5000,\n",
    "                                       learning_rate=0.05,\n",
    "                                       max_depth=3,\n",
    "                                       subsample=0.5,\n",
    "                                       validation_fraction=0.1,\n",
    "                                       n_iter_no_change=20,\n",
    "                                       max_features='log2',\n",
    "                                       verbose=1).fit(x_train,y_train)\n",
    "\n",
    "GBT.score(x_test,y_test)\n",
    "\n",
    "predictions = GBT.predict(x_test)\n",
    "\n",
    "print(classification_report(y_test, predictions))"
   ]
  }
 ],
 "metadata": {
  "interpreter": {
   "hash": "975625868c44c71bd9e0b31fd9d84411056ff96dd2417335527697104e106896"
  },
  "kernelspec": {
   "display_name": "Python 3.8.10 64-bit (windows store)",
   "name": "python3"
  },
  "language_info": {
   "codemirror_mode": {
    "name": "ipython",
    "version": 3
   },
   "file_extension": ".py",
   "mimetype": "text/x-python",
   "name": "python",
   "nbconvert_exporter": "python",
   "pygments_lexer": "ipython3",
   "version": "3.8.10"
  },
  "orig_nbformat": 4
 },
 "nbformat": 4,
 "nbformat_minor": 2
}
